{
  "cells": [
    {
      "cell_type": "markdown",
      "metadata": {
        "id": "0aHKKTM-SpMn"
      },
      "source": [
        "# 🏠 House Price Regression\n",
        "Previously, we processed basic linear regression with preprocessed housing data in Lab02.\n",
        "\n",
        "Today, we will\n",
        "- 🧠 Train Ridge and Lasso linear regression and Multi-layer Perceptron (MLP) regressor with Scikit-learn.\n",
        "- ✅ Evaluate model performance and interpret the results."
      ]
    },
    {
      "cell_type": "markdown",
      "metadata": {
        "id": "I1RG4Hx3SpMp"
      },
      "source": [
        "## Load Previous Lab 02 Codes"
      ]
    },
    {
      "cell_type": "code",
      "execution_count": null,
      "metadata": {
        "id": "Gcwgjc1ySpMp",
        "outputId": "86a9d469-9958-4f0b-ceb1-c927a4b9d4e7"
      },
      "outputs": [],
      "source": [
        "# Libraries\n",
        "import numpy as np\n",
        "import pandas as pd\n",
        "from sklearn.preprocessing import StandardScaler\n",
        "from sklearn.model_selection import train_test_split\n",
        "\n",
        "# Load housing dataset\n",
        "housing = pd.read_csv('https://raw.githubusercontent.com/ageron/handson-ml/master/datasets/housing/housing.csv')\n",
        "housing = pd.get_dummies(housing)\n",
        "\n",
        "# Preprocessing (fill N/A)\n",
        "median = housing[\"total_bedrooms\"].median()\n",
        "housing[\"total_bedrooms\"] = housing[\"total_bedrooms\"].fillna(median)\n",
        "\n",
        "# DO NOT use option 1 and 2 simultaneously.\n",
        "# We will not degrade your submission whatever you use. (The results are different between option 1 and 2.)\n",
        "# Option 1\n",
        "# housing[\"rooms_per_household\"] = housing[\"total_rooms\"] / housing[\"households\"]\n",
        "\n",
        "# Option 2\n",
        "# housing['bedrooms_per_room'] =  housing['total_bedrooms'] / housing['total_rooms']\n",
        "del housing[\"total_bedrooms\"], housing['total_rooms']\n",
        "\n",
        "# Scaling\n",
        "scaler = StandardScaler()\n",
        "col_list = list(housing)\n",
        "col_list.remove(\"median_house_value\")\n",
        "housing_numeric = housing[col_list]\n",
        "housing_scaled = scaler.fit_transform(housing_numeric)\n",
        "housing_scaled_df = pd.DataFrame(housing_scaled, index=housing_numeric.index, columns=housing_numeric.columns)\n",
        "\n",
        "# Training & Test data seperation\n",
        "housing = pd.concat([housing_scaled_df, housing[\"median_house_value\"]], axis=1)\n",
        "train_set, test_set = train_test_split(housing, test_size=0.2, random_state=45)\n",
        "\n",
        "# Feature and label seperation of training set\n",
        "train_set_features = train_set.drop('median_house_value',axis=1)\n",
        "train_set_target = train_set[\"median_house_value\"].copy()\n",
        "test_set_features = test_set.drop(\"median_house_value\", axis=1)\n",
        "test_set_target = test_set[\"median_house_value\"].copy()\n",
        "\n",
        "print('# of train_set : %.0f, # of test_set : %.0f' % (train_set.shape[0], test_set.shape[0]))"
      ]
    },
    {
      "cell_type": "markdown",
      "metadata": {
        "id": "zg-osej_SpMq"
      },
      "source": [
        "## Part 1. Matrices\n",
        "---\n",
        "__scikit-learn__ provides R-square, MSE, ...\n",
        "\n",
        "We will implement these matrices."
      ]
    },
    {
      "cell_type": "markdown",
      "metadata": {
        "id": "I-U5uRP6SpMq"
      },
      "source": [
        "- **R² Score**: Measures how well the model explains the variability of the target variable\n",
        "\n",
        "  $$\n",
        "  R^2 = 1 - \\frac{SS_{res}}{SS_{tot}}\n",
        "  $$\n",
        "\n",
        "  - **SS₍res₎** (*Residual Sum of Squares*):  \n",
        "    The total squared difference between the **actual values** and the **predicted values**.  \n",
        "    $$\n",
        "    SS_{res} = \\sum (y - \\hat{y})^2\n",
        "    $$\n",
        "\n",
        "  - **SS₍tot₎** (*Total Sum of Squares*):  \n",
        "    The total squared difference between the **actual values** and their **mean**.  \n",
        "    $$\n",
        "    SS_{tot} = \\sum (y - \\bar{y})^2\n",
        "    $$\n",
        "\n",
        "- **Mean Absolute Percentage Error (MAPE)**:\n",
        "\n",
        "  $$\n",
        "  \\text{Mean Absolute Percentage Error} = \\frac{1}{N} \\sum{\\frac{|y - \\hat{y}|}{y}}\n",
        "  $$\n",
        "\n",
        "- **Mean Squared Error (MSE)**:\n",
        "\n",
        "  $$\n",
        "  MSE = \\frac{1}{N} \\sum{(y - \\hat{y})^2}\n",
        "  $$\n",
        "\n",
        "- **Root Mean Squared Error (RMSE)**:\n",
        "\n",
        "  $$\n",
        "  RMSE = \\sqrt{\\frac{1}{N} \\sum{(y - \\hat{y})^2}}\n",
        "  $$"
      ]
    },
    {
      "cell_type": "markdown",
      "metadata": {},
      "source": [
        "Utilze\n",
        "- np.sum()\n",
        "- np.mean()\n",
        "- np.abs()\n",
        "- np.sqrt()\n",
        "\n",
        "Actual, predicted variables type is numpy array."
      ]
    },
    {
      "cell_type": "code",
      "execution_count": null,
      "metadata": {
        "id": "Yr1Uz35cBVvp"
      },
      "outputs": [],
      "source": [
        "import numpy as np\n",
        "\n",
        "# Command to hide the warning box\n",
        "import warnings\n",
        "warnings.filterwarnings(action='ignore')\n",
        "\n",
        "actual = np.array([1, 2, 3, 4, 5])\n",
        "predicted = np.array([1, 1, 4, 2, 6])\n",
        "\n",
        "def R2(actual, predicted):\n",
        "    pass\n",
        "\n",
        "def MAPE(actual, predicted):\n",
        "    pass\n",
        "\n",
        "def MSE(actual, predicted):\n",
        "    pass\n",
        "\n",
        "def RMSE(actual, predicted):\n",
        "    pass\n",
        "\n",
        "print(R2(actual, predicted))    # 0.3\n",
        "print(MAPE(actual, predicted))  # 0.3066...\n",
        "print(MSE(actual, predicted))   # 1.4\n",
        "print(RMSE(actual, predicted))  # 1.18321595..."
      ]
    },
    {
      "cell_type": "markdown",
      "metadata": {
        "id": "OsuAw7g0SSw3"
      },
      "source": [
        "## Part 2. Ridge Regression\n",
        "---\n",
        "Based on preprocessed data, Let's make a Ridge Regression (L2) model to predict housing price.\n",
        "\n",
        "__scikit-learn__ provides *Ridge* function"
      ]
    },
    {
      "cell_type": "code",
      "execution_count": null,
      "metadata": {
        "id": "X0rIqD5kSpMr"
      },
      "outputs": [],
      "source": [
        "from sklearn.linear_model import Ridge\n",
        "\n",
        "# Set training & test data\n",
        "train_X, train_Y = ____, ____\n",
        "test_X, test_Y = ____, ____\n",
        "\n",
        "# Set hyperparameters\n",
        "alpha = 0\n",
        "\n",
        "# Ridge regression\n",
        "model_ridge = Ridge(alpha=alpha)\n",
        "model_ridge.fit(train_X, train_Y)\n",
        "print(\"Train R2 score:\", model_ridge.score(train_X, train_Y))\n",
        "\n",
        "# Ridge R2 score\n",
        "ridge_predicted = model_ridge.predict(test_X)         # get y_hat\n",
        "print(\"Test R2 score :\", R2(test_Y, ridge_predicted)) # get r2 score\n",
        "\n",
        "# Metrices (MAPE, MSE, RMSE)\n",
        "final_ridge_mape = MAPE(test_Y, ridge_predicted)\n",
        "final_ridge_mse  = MSE(test_Y, ridge_predicted)\n",
        "final_ridge_rmse = RMSE(test_Y, ridge_predicted)\n",
        "print()\n",
        "print(\"Final_ridge_MAPE:\", final_ridge_mape)\n",
        "print(\"Final_ridge_MSE :\", final_ridge_mse)\n",
        "print(\"Final_ridge_RMSE:\", final_ridge_rmse)"
      ]
    },
    {
      "cell_type": "code",
      "execution_count": null,
      "metadata": {},
      "outputs": [],
      "source": [
        "model_ridge.coef_"
      ]
    },
    {
      "cell_type": "markdown",
      "metadata": {
        "id": "JvNCtIUPQJk4"
      },
      "source": [
        "## Part 3. Lasso Regression\n",
        "---\n",
        "Based on preprocessed data, Let's make a Lasso Regression (L1) model to predict housing price.\n",
        "\n",
        "__scikit-learn__ provides *Lasso* function"
      ]
    },
    {
      "cell_type": "code",
      "execution_count": null,
      "metadata": {
        "colab": {
          "base_uri": "https://localhost:8080/"
        },
        "id": "GGK4bUzzSSw6",
        "outputId": "dc8ba128-3f14-4dd4-c49d-14a242325be0"
      },
      "outputs": [],
      "source": [
        "from sklearn.linear_model import Lasso\n",
        "\n",
        "# Set training & test data\n",
        "train_X, train_Y = ____, ____\n",
        "test_X, test_Y = ____, ____\n",
        "\n",
        "# Set hyperparameters\n",
        "alpha = 0\n",
        "\n",
        "# Lasso regression\n",
        "model_lasso = Lasso(alpha=alpha)\n",
        "model_lasso.fit(train_X, train_Y)\n",
        "print(\"Train R2 score:\", model_lasso.score(train_X, train_Y))\n",
        "\n",
        "# Lasso R2 score\n",
        "lasso_predicted = model_lasso.predict(test_X)         # get y_hat\n",
        "print(\"Test R2 score :\", R2(test_Y, lasso_predicted)) # get r2 score\n",
        "\n",
        "# Metrices (MAPE, MSE, RMSE)\n",
        "final_lasso_mape = MAPE(test_Y, lasso_predicted)\n",
        "final_lasso_mse  = MSE(test_Y, lasso_predicted)\n",
        "final_lasso_rmse = RMSE(test_Y, lasso_predicted)\n",
        "print()\n",
        "print(\"Final_lasso_MAPE:\", final_lasso_mape)\n",
        "print(\"Final_lasso_MSE :\", final_lasso_mse)\n",
        "print(\"Final_lasso_RMSE:\", final_lasso_rmse)\n"
      ]
    },
    {
      "cell_type": "code",
      "execution_count": null,
      "metadata": {},
      "outputs": [],
      "source": [
        "model_lasso.coef_"
      ]
    },
    {
      "cell_type": "markdown",
      "metadata": {
        "id": "1rNtlxJ2SpMs"
      },
      "source": [
        "## Part 4. Let's find optimal alpha value of Ridge & Lasso Regression in [1, 1000]\n",
        "---\n",
        "Based on preprocessed data, Let's make a Ridge Regression (L2) model to predict housing price.\n",
        "\n",
        "__scikit-learn__ provides *Ridge* function"
      ]
    },
    {
      "cell_type": "code",
      "execution_count": null,
      "metadata": {
        "id": "8xAXgy-0SpMs",
        "outputId": "5486caf9-b152-4aed-c273-973653ddc663"
      },
      "outputs": [],
      "source": [
        "from tqdm import tqdm\n",
        "\n",
        "r2_list   = list()\n",
        "mape_list = list()\n",
        "mse_list  = list()\n",
        "rmse_list = list()\n",
        "for i in tqdm(range(1, 1000 +1)):\n",
        "    # Todo: Change the Ridge model to Lasso\n",
        "    model = Ridge(alpha=i)\n",
        "    model.fit(train_X, train_Y)\n",
        "\n",
        "    # R2 score\n",
        "    predicted = model.predict(test_X)\n",
        "    r2_list.append(R2(test_Y, predicted))\n",
        "\n",
        "    # Metrices (MAPE, MSE, RMSE)\n",
        "    final_mape = MAPE(test_Y, predicted)\n",
        "    final_mse  = MSE(test_Y, predicted)\n",
        "    final_rmse = RMSE(test_Y, predicted)\n",
        "    mape_list.append(final_mape)\n",
        "    mse_list.append(final_mse)\n",
        "    rmse_list.append(final_rmse)"
      ]
    },
    {
      "cell_type": "code",
      "execution_count": null,
      "metadata": {
        "id": "hGtBdmVlSpMs",
        "outputId": "a6454073-33af-4686-cc53-2cf9b1590c81"
      },
      "outputs": [],
      "source": [
        "r2_max   = max(r2_list)\n",
        "mape_min = min(mape_list)\n",
        "mse_min  = min(mse_list)\n",
        "rmse_min = min(rmse_list)\n",
        "\n",
        "print(\"Alpha value of biggest R-square score:\", r2_list.index(r2_max),     \"%.4f\" % r2_max)\n",
        "print(\"Alpha value of lowest  MAPE     score:\", mape_list.index(mape_min), \"%.4f\" % mape_min)\n",
        "print(\"Alpha value of lowest  MSE      score:\", mse_list.index(mse_min),   \"%.2f\" % mse_min)\n",
        "print(\"Alpha value of lowest  RMSE     score:\", rmse_list.index(rmse_min), \"%.2f\" % rmse_min)"
      ]
    },
    {
      "cell_type": "code",
      "execution_count": null,
      "metadata": {
        "id": "N7nIOvRaSpMs",
        "outputId": "2dd73de5-9bf7-4384-adbc-d62fd00dfba4"
      },
      "outputs": [],
      "source": [
        "import matplotlib.pyplot as plt\n",
        "\n",
        "x = [i for i in range(1, 1000 +1)]\n",
        "plt.figure(figsize=(12, 10))\n",
        "\n",
        "# R²\n",
        "plt.subplot(2, 2, 1)\n",
        "plt.plot(x, r2_list, marker='o')\n",
        "plt.title('R² vs Alpha')\n",
        "plt.xlabel('Alpha')\n",
        "plt.ylabel('R²')\n",
        "plt.grid(True)\n",
        "\n",
        "# MAPE\n",
        "plt.subplot(2, 2, 2)\n",
        "plt.plot(x, mape_list, marker='s')\n",
        "plt.title('MAPE vs Alpha')\n",
        "plt.xlabel('Alpha')\n",
        "plt.ylabel('MAPE')\n",
        "plt.grid(True)\n",
        "\n",
        "# MSE\n",
        "plt.subplot(2, 2, 3)\n",
        "plt.plot(x, mse_list, marker='^')\n",
        "plt.title('MSE vs Alpha')\n",
        "plt.xlabel('Alpha')\n",
        "plt.ylabel('MSE')\n",
        "plt.grid(True)\n",
        "\n",
        "# RMSE\n",
        "plt.subplot(2, 2, 4)\n",
        "plt.plot(x, rmse_list, marker='d')\n",
        "plt.title('RMSE vs Alpha')\n",
        "plt.xlabel('Alpha')\n",
        "plt.ylabel('RMSE')\n",
        "plt.grid(True)\n",
        "\n",
        "plt.tight_layout()\n",
        "plt.show()"
      ]
    },
    {
      "cell_type": "markdown",
      "metadata": {
        "id": "Ghfp4W83Qw4z"
      },
      "source": [
        "## Part 5. Multi-layer perceptron (MLP) Regressor\n",
        "---\n",
        "Using Multi layer perceptron (MLP), let's make a deep learning model to predict housing price more accurately than linear models.\n",
        "\n",
        "Details about MLP will be coverd later. This is just brief preview.\n",
        "\n",
        "__scikit-learn__ provides *MLPRegressor* function"
      ]
    },
    {
      "cell_type": "code",
      "execution_count": null,
      "metadata": {
        "colab": {
          "base_uri": "https://localhost:8080/"
        },
        "id": "_AtER-QXQy5p",
        "outputId": "bc178944-e487-41b9-87de-bc46e2e8d729"
      },
      "outputs": [],
      "source": [
        "from sklearn.neural_network import MLPRegressor\n",
        "\n",
        "# Set hidden_layer_sizes (32), (64), (64, 32), (32, 64, 32) with max_iter=1000\n",
        "# MLP regressor\n",
        "hidden_layer_sizes = (32, 64, 32)\n",
        "model_MLP = MLPRegressor(\n",
        "    activation='relu',\n",
        "    hidden_layer_sizes=hidden_layer_sizes,\n",
        "    max_iter=1000,\n",
        "    solver='lbfgs',\n",
        "    random_state=0\n",
        ")\n",
        "model_MLP.fit(train_X, train_Y)\n",
        "print(\"Train R2 score : \", model_MLP.score(train_X, train_Y))\n",
        "\n",
        "MLP_predicted = model_MLP.predict(test_X)\n",
        "print(\"Test R2 score : \", R2(test_Y, MLP_predicted))\n",
        "\n",
        "final_MLP_mape = MAPE(test_Y, MLP_predicted)\n",
        "final_MLP_mse  = MSE(test_Y, MLP_predicted)\n",
        "final_MLP_rmse = RMSE(test_Y, MLP_predicted)\n",
        "print()\n",
        "print(\"Final_MLP_MAPE:\", final_MLP_mape)\n",
        "print(\"Final_MLP_MSE :\", final_MLP_mse)\n",
        "print(\"Final_MLP_RMSE:\", final_MLP_rmse)"
      ]
    },
    {
      "cell_type": "code",
      "execution_count": null,
      "metadata": {
        "id": "0U3PdT9ISpMs",
        "outputId": "7eb85515-c8d4-441d-c711-c1335388a517"
      },
      "outputs": [],
      "source": [
        "# with Ridge(alpha=100)\n",
        "# with Lasso(alpha=1000)\n",
        "data = {\n",
        "    'Model': ['Linear', 'Ridge', 'Lasso', 'MLP'],\n",
        "    'R2': [0.6280, ____, ____, ____],\n",
        "    'RMSE': [70258.86, ____, ____, ____]\n",
        "}\n",
        "df = pd.DataFrame(data)\n",
        "\n",
        "# R^2 plot\n",
        "fig, axs = plt.subplots(1, 2, figsize=(12, 5))\n",
        "axs[0].bar(df['Model'], df['R2'], color=['steelblue', 'sandybrown', 'yellowgreen', 'lightcoral'], edgecolor=['black'] * 4)\n",
        "axs[0].set_title('$R^2$ of Test set')\n",
        "axs[0].set_ylabel('$R^2$')\n",
        "axs[0].set_ylim(0.6, 0.82)\n",
        "axs[0].tick_params(axis='x', rotation=15)\n",
        "\n",
        "# RMSE plot\n",
        "axs[1].bar(df['Model'], df['RMSE'], color=['steelblue', 'sandybrown', 'yellowgreen', 'lightcoral'], edgecolor=['black'] * 4)\n",
        "axs[1].set_title('RMSE of Test set')\n",
        "axs[1].set_ylabel('RMSE')\n",
        "axs[1].set_ylim(50000, 75000)\n",
        "axs[1].tick_params(axis='x', rotation=15)\n",
        "\n",
        "plt.tight_layout()\n",
        "plt.show()"
      ]
    },
    {
      "cell_type": "markdown",
      "metadata": {},
      "source": [
        "# Answer these 4 questions below.\n",
        "    Example: (Yes or No), (the reason why in one sentence.)"
      ]
    },
    {
      "cell_type": "markdown",
      "metadata": {
        "id": "pUC38BJcSpMt"
      },
      "source": [
        "Q1. Is MSE a good metric for interpreting error in housing prices?\n",
        "\n",
        "  Your answer:\n",
        "\n",
        "Q2. If alpha is 0, will the results (Ridge and Lasso) be the same as linear regression?\n",
        "\n",
        "  Your answer:\n",
        "\n",
        "Q3. In Ridge Regression, what was the alpha value (1 ~ 1000) that resulted in the optimal RMSE?\n",
        "\n",
        "  Your answer:\n",
        "\n",
        "Q4. MLP has a lower error than Linear Regression methods. Does that mean MLP is always a better model than Linear, Ridge, and Lasso Regression?\n",
        "\n",
        "  Your answer:"
      ]
    }
  ],
  "metadata": {
    "colab": {
      "provenance": [],
      "toc_visible": true
    },
    "kernelspec": {
      "display_name": "base",
      "language": "python",
      "name": "python3"
    },
    "language_info": {
      "codemirror_mode": {
        "name": "ipython",
        "version": 3
      },
      "file_extension": ".py",
      "mimetype": "text/x-python",
      "name": "python",
      "nbconvert_exporter": "python",
      "pygments_lexer": "ipython3",
      "version": "3.9.13"
    },
    "nav_menu": {
      "height": "279px",
      "width": "309px"
    },
    "toc": {
      "nav_menu": {},
      "number_sections": true,
      "sideBar": true,
      "skip_h1_title": false,
      "toc_cell": false,
      "toc_position": {},
      "toc_section_display": "block",
      "toc_window_display": false
    }
  },
  "nbformat": 4,
  "nbformat_minor": 0
}
